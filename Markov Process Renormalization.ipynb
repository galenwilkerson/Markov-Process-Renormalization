{
 "cells": [
  {
   "cell_type": "markdown",
   "metadata": {},
   "source": [
    "# Markov Process Renormalization\n",
    "\n",
    "Galen Wilkerson\n",
    "\n",
    "\n",
    "\n",
    "Here we look at what happens when we coarse-grain a Markov matrix in time.\n",
    "\n",
    "\n",
    "Based on lectures by Simon DeDeo:\n",
    "\n",
    "https://www.complexityexplorer.org/courses/67-introduction-to-renormalization"
   ]
  },
  {
   "cell_type": "markdown",
   "metadata": {
    "heading_collapsed": true
   },
   "source": [
    "# Setup and Functions"
   ]
  },
  {
   "cell_type": "code",
   "execution_count": 1,
   "metadata": {
    "hidden": true
   },
   "outputs": [],
   "source": [
    "import numpy as np\n",
    "import math\n",
    "\n",
    "import sympy \n",
    "from sympy import *\n",
    "from sympy import Matrix\n",
    "from sympy.utilities.lambdify import lambdify, implemented_function\n",
    "from sympy import Function\n",
    "\n",
    "import networkx as nx\n",
    "\n",
    "import __future__\n",
    "import __init__\n",
    "\n",
    "%matplotlib inline\n",
    "\n",
    "import matplotlib.pylab as plt\n",
    "\n",
    "import warnings\n",
    "warnings.filterwarnings('ignore')\n",
    "\n",
    "from IPython.display import Latex\n",
    "\n",
    "#If you want all graphs to be drawn inline, then you can set a global parameter.\n",
    "from nxpd import draw\n",
    "from nxpd import nxpdParams\n",
    "nxpdParams['show'] = 'ipynb'\n",
    "\n",
    "import string\n",
    "\n",
    "\n",
    "def create_Markov_matrix(height, width):\n",
    "    '''\n",
    "    randomly create a 'right' markov matrix (each row sums to 1)\n",
    "    '''\n",
    "    \n",
    "    x = np.random.random(size=[width, height])\n",
    "\n",
    "    # use float128 for precision when taking powers\n",
    "    markov_matrix = x / x.sum(axis=0, dtype = np.float128)  \n",
    "\n",
    "    markov_matrix = markov_matrix.transpose()\n",
    "    \n",
    "    return(markov_matrix)\n",
    "\n",
    "\n",
    "def show_latex_matrix(matrix1):\n",
    "    '''\n",
    "    '''\n",
    "    return(Latex('$%s$'%latex(Matrix(matrix1))))\n",
    "\n",
    "\n",
    "def create_Markov_graph(markov_matrix, mapping = None):\n",
    "    '''\n",
    "    inputs:\n",
    "    numpy matrix\n",
    "    a mapping dictionary from integer node ids to anything\n",
    "    \n",
    "    returns:\n",
    "    a networkx graph\n",
    "    '''\n",
    "\n",
    "    G=nx.from_numpy_matrix(markov_matrix, create_using=nx.DiGraph())\n",
    "\n",
    "    # if no mapping is passed, just keeps the node ids\n",
    "    if (mapping == None):\n",
    "        mapping = dict(zip(list(range(markov_matrix.shape[0])), list(range(markov_matrix.shape[0]))))\n",
    "        \n",
    "    G=nx.relabel_nodes(G, mapping)\n",
    "\n",
    "    nx.set_node_attributes(G, 'fontsize', 10)\n",
    "    nx.set_node_attributes(G, 'color', 'black')\n",
    "\n",
    "    nx.set_edge_attributes(G, 'fontsize', 10)\n",
    "    nx.set_edge_attributes(G, 'color', 'grey')\n",
    "\n",
    "    weights = nx.get_edge_attributes(G, 'weight')\n",
    "    weights = nx.get_edge_attributes(G, 'weight')\n",
    "    vals = weights.values()\n",
    "    vals = np.array(list(vals)).astype(float)\n",
    "    vals = np.round(vals, 2)\n",
    "    weights = dict(zip(list(weights.keys()),(vals)))\n",
    "    \n",
    "    nx.set_edge_attributes(G, name='label', values=weights)\n",
    "    \n",
    "    return(G)\n",
    "\n",
    "\n",
    "def compute_markov_states(markov_matrix, mapping = None, num_trials = 10):\n",
    "    '''\n",
    "    inputs:\n",
    "    a numpy right markov matrix    \n",
    "    a mapping dictionary from integer node ids to anything\n",
    "    \n",
    "    returns:\n",
    "    list of all states of system\n",
    "    '''\n",
    "\n",
    "    states = []\n",
    "    \n",
    "    # if no mapping is passed, just keeps the node ids\n",
    "    if (mapping == None):\n",
    "        mapping = dict(zip(list(range(markov_matrix.shape[0])), list(range(markov_matrix.shape[0]))))\n",
    "    \n",
    "    height, width = markov_matrix.shape\n",
    "\n",
    "    # set up horizontal cumulative sums for computing next state\n",
    "    cum_sum = markov_matrix.cumsum(axis=1)\n",
    "\n",
    "    # start state\n",
    "    state_index = np.random.choice(list(range(height)))\n",
    "    state = np.zeros(height)\n",
    "    state[state_index] = 1\n",
    "\n",
    "    states.append(mapping[state_index])    \n",
    "    \n",
    "    for i in range(num_trials):\n",
    "        rand_num = np.random.rand()\n",
    "        state_index = np.where(state == 1)[0][0]\n",
    "        next_state = np.where(cum_sum[state_index,:] > rand_num)[0][0]\n",
    "        state_index = next_state\n",
    "        #print(mapping[state_index])\n",
    "        #input()  #pause at each step\n",
    "        states.append(mapping[state_index])\n",
    "    return(states)\n",
    "\n",
    "\n",
    "def create_alphabet_mapping_dict():\n",
    "    '''\n",
    "    map the node id numbers to letters\n",
    "    '''\n",
    "    \n",
    "    # the node ids (let's use letters)\n",
    "    alphabet = list(string.ascii_uppercase)\n",
    "    keys = list(range(len(alphabet)))\n",
    "    mapping = dict(zip(keys, alphabet))\n",
    "    \n",
    "    return mapping\n",
    "\n",
    "def coarse_grain_markov(markov_matrix, timesteps):\n",
    "    '''\n",
    "    coarsegrain the Markov Matrix\n",
    "    \n",
    "    inputs:\n",
    "    a right-markov matrix\n",
    "    number of timesteps (powers of matrix)\n",
    "    \n",
    "    returns\n",
    "    a right-markov matrix equal to the specified power of the input matrix\n",
    "    '''\n",
    "    \n",
    "    return(np.linalg.matrix_power(markov_matrix, timesteps))\n",
    "    "
   ]
  },
  {
   "cell_type": "markdown",
   "metadata": {},
   "source": [
    "# Lecture 1 - Mathematics of Coarse Grained Markov Chains"
   ]
  },
  {
   "cell_type": "code",
   "execution_count": 32,
   "metadata": {},
   "outputs": [
    {
     "data": {
      "text/latex": [
       "$\\left[\\begin{matrix}0.320353799337438 & 0.679646200662562\\\\0.807697167199608 & 0.192302832800392\\end{matrix}\\right]$"
      ],
      "text/plain": [
       "<IPython.core.display.Latex object>"
      ]
     },
     "execution_count": 32,
     "metadata": {},
     "output_type": "execute_result"
    }
   ],
   "source": [
    "height = 2\n",
    "width = 2\n",
    "\n",
    "# map the node id numbers to letters\n",
    "mapping = create_alphabet_mapping_dict()\n",
    "\n",
    "# create the markov matrix\n",
    "markov_matrix = create_Markov_matrix(height, width)\n",
    "show_latex_matrix(markov_matrix)"
   ]
  },
  {
   "cell_type": "code",
   "execution_count": 33,
   "metadata": {},
   "outputs": [
    {
     "data": {
      "text/plain": [
       "array([ 1.0,  1.0], dtype=float128)"
      ]
     },
     "execution_count": 33,
     "metadata": {},
     "output_type": "execute_result"
    }
   ],
   "source": [
    "# check that rows sum to 1\n",
    "markov_matrix.sum(axis=1)"
   ]
  },
  {
   "cell_type": "code",
   "execution_count": 34,
   "metadata": {},
   "outputs": [
    {
     "data": {
      "image/png": "[encoded data removed]",
      "text/plain": [
       "<IPython.core.display.Image object>"
      ]
     },
     "execution_count": 34,
     "metadata": {},
     "output_type": "execute_result"
    }
   ],
   "source": [
    "# create networkx graph\n",
    "G = create_Markov_graph(markov_matrix, mapping)\n",
    "\n",
    "# draw networkx graph with graphviz\n",
    "im = draw(G, layout='circo')\n",
    "im"
   ]
  },
  {
   "cell_type": "code",
   "execution_count": 35,
   "metadata": {},
   "outputs": [
    {
     "data": {
      "image/png": "[encoded data removed]",
      "text/plain": [
       "<IPython.core.display.Image object>"
      ]
     },
     "execution_count": 35,
     "metadata": {},
     "output_type": "execute_result"
    }
   ],
   "source": [
    "# draw networkx graph with graphviz\n",
    "im = draw(G, layout='circo')\n",
    "im"
   ]
  },
  {
   "cell_type": "markdown",
   "metadata": {},
   "source": [
    "### compute the states when using the edge probabilites from a random start state"
   ]
  },
  {
   "cell_type": "code",
   "execution_count": 37,
   "metadata": {},
   "outputs": [
    {
     "data": {
      "text/plain": [
       "['A', 'A', 'B', 'B', 'A', 'B', 'B', 'A', 'B', 'A', 'B']"
      ]
     },
     "execution_count": 37,
     "metadata": {},
     "output_type": "execute_result"
    }
   ],
   "source": [
    "num_trials = 10\n",
    "\n",
    "compute_markov_states(markov_matrix, mapping, num_trials)"
   ]
  },
  {
   "cell_type": "markdown",
   "metadata": {},
   "source": [
    "## Now, coarse-grain the Markov Matrix (2 time steps instead of 1)"
   ]
  },
  {
   "cell_type": "code",
   "execution_count": 38,
   "metadata": {},
   "outputs": [
    {
     "data": {
      "text/latex": [
       "$\\left[\\begin{matrix}0.651574867723059 & 0.348425132276941\\\\0.414071309523817 & 0.585928690476183\\end{matrix}\\right]$"
      ],
      "text/plain": [
       "<IPython.core.display.Latex object>"
      ]
     },
     "execution_count": 38,
     "metadata": {},
     "output_type": "execute_result"
    }
   ],
   "source": [
    "timesteps = 2\n",
    "\n",
    "coarse_markov_2 = coarse_grain_markov(markov_matrix, timesteps)\n",
    "show_latex_matrix(coarse_markov_2)"
   ]
  },
  {
   "cell_type": "code",
   "execution_count": 39,
   "metadata": {},
   "outputs": [
    {
     "data": {
      "text/plain": [
       "array([ 1.0,  1.0], dtype=float128)"
      ]
     },
     "execution_count": 39,
     "metadata": {},
     "output_type": "execute_result"
    }
   ],
   "source": [
    "# check that each row sums to 1\n",
    "coarse_markov_2.sum(axis = 1)"
   ]
  },
  {
   "cell_type": "code",
   "execution_count": 40,
   "metadata": {
    "scrolled": true
   },
   "outputs": [
    {
     "data": {
      "image/png": "[encoded data removed]",
      "text/plain": [
       "<IPython.core.display.Image object>"
      ]
     },
     "execution_count": 40,
     "metadata": {},
     "output_type": "execute_result"
    }
   ],
   "source": [
    "# create networkx graph\n",
    "G = create_Markov_graph(coarse_markov_2, mapping)\n",
    "\n",
    "# draw networkx graph with graphviz\n",
    "im = draw(G, layout='circo')\n",
    "im"
   ]
  },
  {
   "cell_type": "markdown",
   "metadata": {},
   "source": [
    "## Now, coarsegrain the Markov Matrix to arbitrary steps (set timesteps and re-run)"
   ]
  },
  {
   "cell_type": "code",
   "execution_count": 45,
   "metadata": {},
   "outputs": [],
   "source": [
    "timesteps = 3"
   ]
  },
  {
   "cell_type": "code",
   "execution_count": 46,
   "metadata": {},
   "outputs": [
    {
     "data": {
      "text/latex": [
       "$\\left[\\begin{matrix}0.490156476749105 & 0.509843523250895\\\\0.605902260681172 & 0.394097739318828\\end{matrix}\\right]$"
      ],
      "text/plain": [
       "<IPython.core.display.Latex object>"
      ]
     },
     "execution_count": 46,
     "metadata": {},
     "output_type": "execute_result"
    }
   ],
   "source": [
    "coarse_markov = coarse_grain_markov(markov_matrix, timesteps)\n",
    "show_latex_matrix(coarse_markov)"
   ]
  },
  {
   "cell_type": "code",
   "execution_count": 47,
   "metadata": {},
   "outputs": [
    {
     "data": {
      "text/plain": [
       "array([ 1.0,  1.0], dtype=float128)"
      ]
     },
     "execution_count": 47,
     "metadata": {},
     "output_type": "execute_result"
    }
   ],
   "source": [
    "# check that each row sums to 1\n",
    "coarse_markov.sum(axis = 1)"
   ]
  },
  {
   "cell_type": "code",
   "execution_count": 48,
   "metadata": {
    "scrolled": false
   },
   "outputs": [
    {
     "data": {
      "image/png": "[encoded data removed]",
      "text/plain": [
       "<IPython.core.display.Image object>"
      ]
     },
     "execution_count": 48,
     "metadata": {},
     "output_type": "execute_result"
    }
   ],
   "source": [
    "# create networkx graph\n",
    "G = create_Markov_graph(coarse_markov, mapping)\n",
    "\n",
    "# draw networkx graph with graphviz\n",
    "im = draw(G, layout='circo')\n",
    "im"
   ]
  },
  {
   "cell_type": "markdown",
   "metadata": {},
   "source": [
    "# Lecture 2 - Mathematics of Coarse Grained Markov Chains"
   ]
  },
  {
   "cell_type": "code",
   "execution_count": 14,
   "metadata": {},
   "outputs": [
    {
     "data": {
      "image/png": "[encoded data removed]",
      "text/plain": [
       "<IPython.core.display.Image object>"
      ]
     },
     "execution_count": 14,
     "metadata": {},
     "output_type": "execute_result"
    }
   ],
   "source": [
    "G = nx.DiGraph()\n",
    "G.add_edge(\"A\", \"B\", {\"label\":r'1-ϵ'})\n",
    "G.add_edge(\"B\", \"A\", {\"label\":r'1-ϵ'})\n",
    "G.add_edge(\"A\", \"A\", {\"label\":r'ϵ'})\n",
    "G.add_edge(\"B\", \"B\", {\"label\":r'ϵ'})\n",
    "\n",
    "\n",
    "# draw networkx graph with graphviz\n",
    "im = draw(G, layout='circo')\n",
    "im"
   ]
  },
  {
   "cell_type": "markdown",
   "metadata": {},
   "source": [
    "We use powers of the **stochastic matrix** to change the coarse-graining:\n",
    "$$\n",
    "\\begin{pmatrix}\n",
    "    p(A|A)       & p(A|B) \\\\\n",
    "    p(B|A)       & p(B|B) \n",
    "\\end{pmatrix}\n",
    "$$\n",
    "\n",
    "like this:\n",
    "$$\n",
    "\\begin{pmatrix}\n",
    "    p(A|A)       & p(A|B) \\\\\n",
    "    p(B|A)       & p(B|B) \n",
    "\\end{pmatrix}\n",
    "\\begin{pmatrix}\n",
    "    p(A)     \\\\\n",
    "    p(B)       \n",
    "\\end{pmatrix}\n",
    "$$"
   ]
  },
  {
   "cell_type": "markdown",
   "metadata": {},
   "source": [
    "This defines the evolution operator $T$:\n",
    "$$\n",
    "T = \\begin{pmatrix}\n",
    "    \\epsilon       & 1-\\epsilon \\\\\n",
    "    1-\\epsilon       & \\epsilon\n",
    "\\end{pmatrix}\n",
    "$$\n",
    "\n",
    "Coarse-graining by 2 time-steps gives us\n",
    "\n",
    "$$\n",
    "T^2 = \\begin{pmatrix}\n",
    "    \\epsilon       & 1-\\epsilon \\\\\n",
    "    1-\\epsilon       & \\epsilon\n",
    "\\end{pmatrix}^2\n",
    "$$\n",
    "\n",
    "$$\n",
    "= \\begin{pmatrix}\n",
    "    \\epsilon       & 1-\\epsilon \\\\\n",
    "    1-\\epsilon       & \\epsilon\n",
    "\\end{pmatrix}\n",
    "\\begin{pmatrix}\n",
    "    \\epsilon       & 1-\\epsilon \\\\\n",
    "    1-\\epsilon       & \\epsilon\n",
    "\\end{pmatrix}\n",
    "$$"
   ]
  },
  {
   "cell_type": "markdown",
   "metadata": {},
   "source": [
    "$$\n",
    " = \\begin{pmatrix}\n",
    "    \\epsilon^2 + (1-\\epsilon)^2      & 2 \\epsilon (1-\\epsilon)  \\\\\n",
    "    2 \\epsilon (1-\\epsilon)       & (1-\\epsilon)^2 + \\epsilon^2\n",
    "\\end{pmatrix}\n",
    "$$"
   ]
  },
  {
   "cell_type": "markdown",
   "metadata": {},
   "source": [
    "Giving us:\n",
    "\n",
    "$$\n",
    "T^2 = \\begin{pmatrix}\n",
    "    1-2\\epsilon + 2\\epsilon^2      & 2 \\epsilon-2 \\epsilon^2  \\\\\n",
    "    2 \\epsilon-2 \\epsilon^2       & 1-2\\epsilon + 2\\epsilon^2\n",
    "\\end{pmatrix}\n",
    "$$"
   ]
  },
  {
   "cell_type": "markdown",
   "metadata": {},
   "source": [
    "Taking eigenvectors and eigenvalues of $T$:\n",
    "\n",
    "$$\n",
    "T v_1 = \\lambda_1 v_1\n",
    "$$\n",
    "\n",
    "$$\n",
    "T v_2 = \\lambda_1 v_2\n",
    "$$\n",
    "\n",
    "where $v_1, v_2$ are the eigenvectors and $\\lambda_1, \\lambda_2$ are the eigenvalues."
   ]
  },
  {
   "cell_type": "markdown",
   "metadata": {},
   "source": [
    "We can now write a probability distribution as a weighted sum of the eigenvectors:\n",
    "$$\n",
    "p = \\alpha_1 v_1 + \\alpha_2 v_2\n",
    "$$\n",
    "\n",
    "which when transformed into \"eigenvector space\" is\n",
    "\n",
    "$$\n",
    "\\begin{pmatrix}\\alpha_1 \\\\ \\alpha_2\\end{pmatrix}\n",
    "$$"
   ]
  },
  {
   "cell_type": "markdown",
   "metadata": {},
   "source": [
    "The eigenvalues of $T$ are 1 and $2\\epsilon-1$.\n",
    "\n",
    "This lets us write the diagonalized version of of the evolution operator $\\hat{T}$\n",
    "\n",
    "$$\n",
    "\\hat{T} = \\begin{pmatrix}\n",
    "    1       & 0 \\\\\n",
    "    0       & 2\\epsilon-1\n",
    "\\end{pmatrix}\n",
    "$$\n",
    "\n",
    "When the transformed evolution operator (stochastic matrix) $\\hat{T}$ operates in the eigenvector space:\n",
    "\n",
    "$$\n",
    "\\begin{pmatrix}\n",
    "    1       & 0 \\\\\n",
    "    0       & 2\\epsilon-1\n",
    "\\end{pmatrix} \\begin{pmatrix}\\alpha_1 \\\\ \\alpha_2\\end{pmatrix} = \\begin{pmatrix}\\alpha_1 \\\\ (2\\epsilon-1)\\alpha_2\\end{pmatrix}\n",
    "$$\n",
    "\n",
    "\n",
    "For a stochastic matrix, one of its eigenvalues will always have length 1, and the other eigenvalue will have length < 1."
   ]
  },
  {
   "cell_type": "markdown",
   "metadata": {},
   "source": [
    "As we coarse-grain further, we get\n",
    "\n",
    "$$\n",
    "T^n = \\begin{pmatrix}\n",
    "    1       & 0 \\\\\n",
    "    0       & (2\\epsilon-1)^n\n",
    "\\end{pmatrix} \\begin{pmatrix}\\alpha_1 \\\\ \\alpha_2\\end{pmatrix} = \\begin{pmatrix}\\alpha_1 \\\\ (2\\epsilon-1)^n\\alpha_2\\end{pmatrix}\n",
    "$$"
   ]
  },
  {
   "cell_type": "markdown",
   "metadata": {},
   "source": [
    "For large $n$, the term $(2\\epsilon-1)^n$ will get very small, so that in the limit as $n \\to \\infty$, \n",
    "\n",
    "$\n",
    "T^n\\begin{pmatrix}\\alpha_1 \\\\ \\alpha_2\\end{pmatrix} \\to \\begin{pmatrix}\\alpha_1 \\\\ 0\\end{pmatrix}\n",
    "$"
   ]
  },
  {
   "cell_type": "markdown",
   "metadata": {},
   "source": [
    "In the limit this will map the probabilty matrix to the first eigenvector.\n",
    "\n",
    "$$\n",
    "p \\to \\vec v_1\n",
    "$$\n",
    "\n",
    "This is the **stationary distribution** of the original stochastic matrix.\n",
    "\n",
    "We start out with a model that is described by many parameters (having many degrees of freedom), \n",
    "\n",
    "but coarse-graining enough simplifies the description and reduces the description down to one parameter."
   ]
  },
  {
   "cell_type": "code",
   "execution_count": 15,
   "metadata": {},
   "outputs": [
    {
     "data": {
      "image/png": "[encoded data removed]",
      "text/plain": [
       "<IPython.core.display.Image object>"
      ]
     },
     "execution_count": 15,
     "metadata": {},
     "output_type": "execute_result"
    }
   ],
   "source": [
    "G = nx.DiGraph()\n",
    "G.add_edge(\"A\", \"B\", {\"label\":'1-p_a'})\n",
    "G.add_edge(\"B\", \"A\", {\"label\":'p_a'})\n",
    "G.add_edge(\"A\", \"A\", {\"label\":'p_a'})\n",
    "G.add_edge(\"B\", \"B\", {\"label\":'1-p_a'})\n",
    "\n",
    "\n",
    "# draw networkx graph with graphviz\n",
    "draw(G, layout='dot')"
   ]
  },
  {
   "cell_type": "code",
   "execution_count": 16,
   "metadata": {},
   "outputs": [
    {
     "data": {
      "image/png": "[encoded data removed]",
      "text/plain": [
       "<IPython.core.display.Image object>"
      ]
     },
     "execution_count": 16,
     "metadata": {},
     "output_type": "execute_result"
    }
   ],
   "source": [
    "G = nx.DiGraph()\n",
    "G.add_edge(\"A\", \"B\", {\"label\":'p_b = 1-p_a'})\n",
    "G.add_edge(\"B\", \"A\", {\"label\":'p_a'})\n",
    "G.add_edge(\"A\", \"A\", {\"label\":'p_a'})\n",
    "G.add_edge(\"B\", \"B\", {\"label\":'p_b = 1-p_a'})\n",
    "\n",
    "\n",
    "# draw networkx graph with graphviz\n",
    "draw(G, layout='dot')"
   ]
  },
  {
   "cell_type": "code",
   "execution_count": 93,
   "metadata": {},
   "outputs": [
    {
     "name": "stdout",
     "output_type": "stream",
     "text": [
      "[ 1.         -0.48734337]\n",
      "\n",
      "[[ 0.70710678 -0.64384757]\n",
      " [ 0.70710678  0.76515378]]\n"
     ]
    }
   ],
   "source": [
    "# get the eigenvalues and eigenvectors\n",
    "lambdas, eig_vectors = np.linalg.eig(markov_matrix.astype(np.float))\n",
    "print(lambdas)\n",
    "print()\n",
    "print(eig_vectors)"
   ]
  },
  {
   "cell_type": "markdown",
   "metadata": {},
   "source": [
    "### Try iterating the coarse-graining to show approach to the fixed point"
   ]
  },
  {
   "cell_type": "code",
   "execution_count": 106,
   "metadata": {},
   "outputs": [],
   "source": [
    "num_coarse_grainings = 50\n",
    "lambda_values = np.zeros([num_coarse_grainings, 2])\n",
    "eigenvectors = []\n",
    "\n",
    "for i in range(num_coarse_grainings):\n",
    "    coarse_markov = coarse_grain_markov(markov_matrix, i)\n",
    "    \n",
    "    lambdas, eig_vectors = np.linalg.eig(coarse_markov.astype(np.float))\n",
    "    lambda_values[i] = lambdas\n",
    "    eigenvectors.append(eig_vectors)\n",
    "    \n",
    "    #print('$\\lambdas$:',lambdas)\n",
    "    #print('v',eig_vectors)\n",
    "    #print()"
   ]
  },
  {
   "cell_type": "markdown",
   "metadata": {},
   "source": [
    "### Plot the phase-space of the eigenvalues"
   ]
  },
  {
   "cell_type": "code",
   "execution_count": 107,
   "metadata": {},
   "outputs": [
    {
     "data": {
      "image/png": "[encoded data removed]",
      "text/plain": [
       "<Figure size 432x288 with 1 Axes>"
      ]
     },
     "metadata": {},
     "output_type": "display_data"
    }
   ],
   "source": [
    "import pandas as pd\n",
    "\n",
    "df = pd.DataFrame(lambda_values, columns=['lambda_1', 'lambda_2'])\n",
    "df.plot();"
   ]
  },
  {
   "cell_type": "code",
   "execution_count": 108,
   "metadata": {},
   "outputs": [
    {
     "name": "stdout",
     "output_type": "stream",
     "text": [
      "[array([[ 1.,  0.],\n",
      "       [ 0.,  1.]]), array([[ 0.70710678, -0.64384757],\n",
      "       [ 0.70710678,  0.76515378]]), array([[ 0.70710678, -0.64384757],\n",
      "       [ 0.70710678,  0.76515378]]), array([[ 0.70710678, -0.64384757],\n",
      "       [ 0.70710678,  0.76515378]]), array([[ 0.70710678, -0.64384757],\n",
      "       [ 0.70710678,  0.76515378]]), array([[ 0.70710678, -0.64384757],\n",
      "       [ 0.70710678,  0.76515378]]), array([[ 0.70710678, -0.64384757],\n",
      "       [ 0.70710678,  0.76515378]]), array([[ 0.70710678, -0.64384757],\n",
      "       [ 0.70710678,  0.76515378]]), array([[ 0.70710678, -0.64384757],\n",
      "       [ 0.70710678,  0.76515378]]), array([[ 0.70710678, -0.64384757],\n",
      "       [ 0.70710678,  0.76515378]]), array([[ 0.70710678, -0.64384757],\n",
      "       [ 0.70710678,  0.76515378]]), array([[ 0.70710678, -0.64384757],\n",
      "       [ 0.70710678,  0.76515378]]), array([[ 0.70710678, -0.64384757],\n",
      "       [ 0.70710678,  0.76515378]]), array([[ 0.70710678, -0.64384757],\n",
      "       [ 0.70710678,  0.76515378]]), array([[ 0.70710678, -0.64384757],\n",
      "       [ 0.70710678,  0.76515378]]), array([[ 0.70710678, -0.64384757],\n",
      "       [ 0.70710678,  0.76515378]]), array([[ 0.70710678, -0.64384757],\n",
      "       [ 0.70710678,  0.76515378]]), array([[ 0.70710678, -0.64384757],\n",
      "       [ 0.70710678,  0.76515378]]), array([[ 0.70710678, -0.64384757],\n",
      "       [ 0.70710678,  0.76515378]]), array([[ 0.70710678, -0.64384757],\n",
      "       [ 0.70710678,  0.76515378]]), array([[ 0.70710678, -0.64384757],\n",
      "       [ 0.70710678,  0.76515378]]), array([[ 0.70710678, -0.64384757],\n",
      "       [ 0.70710678,  0.76515378]]), array([[ 0.70710678, -0.64384757],\n",
      "       [ 0.70710678,  0.76515378]]), array([[ 0.70710678, -0.64384757],\n",
      "       [ 0.70710678,  0.76515378]]), array([[ 0.70710678, -0.64384757],\n",
      "       [ 0.70710678,  0.76515378]]), array([[ 0.70710678, -0.64384757],\n",
      "       [ 0.70710678,  0.76515378]]), array([[ 0.70710678, -0.64384757],\n",
      "       [ 0.70710678,  0.76515378]]), array([[ 0.70710678, -0.64384757],\n",
      "       [ 0.70710678,  0.76515378]]), array([[ 0.70710678, -0.64384757],\n",
      "       [ 0.70710678,  0.76515378]]), array([[ 0.70710678, -0.64384757],\n",
      "       [ 0.70710678,  0.76515378]]), array([[ 0.70710678, -0.64384757],\n",
      "       [ 0.70710678,  0.76515378]]), array([[ 0.70710678, -0.64384757],\n",
      "       [ 0.70710678,  0.76515378]]), array([[ 0.70710678, -0.64384757],\n",
      "       [ 0.70710678,  0.76515378]]), array([[ 0.70710678, -0.64384757],\n",
      "       [ 0.70710678,  0.76515378]]), array([[ 0.70710678, -0.64384757],\n",
      "       [ 0.70710678,  0.76515378]]), array([[ 0.70710678, -0.64384757],\n",
      "       [ 0.70710678,  0.76515378]]), array([[ 0.70710678, -0.64384757],\n",
      "       [ 0.70710678,  0.76515378]]), array([[ 0.70710678, -0.64384757],\n",
      "       [ 0.70710678,  0.76515378]]), array([[ 0.70710678, -0.64384757],\n",
      "       [ 0.70710678,  0.76515378]]), array([[ 0.70710678, -0.64384757],\n",
      "       [ 0.70710678,  0.76515378]]), array([[ 0.70710678, -0.64384757],\n",
      "       [ 0.70710678,  0.76515378]]), array([[ 0.70710678, -0.64384757],\n",
      "       [ 0.70710678,  0.76515378]]), array([[ 0.70710678, -0.64384757],\n",
      "       [ 0.70710678,  0.76515378]]), array([[ 0.70710678, -0.64384757],\n",
      "       [ 0.70710678,  0.76515378]]), array([[ 0.70710678, -0.64384757],\n",
      "       [ 0.70710678,  0.76515378]]), array([[ 0.70710678, -0.64384757],\n",
      "       [ 0.70710678,  0.76515378]]), array([[ 0.70710678, -0.64384757],\n",
      "       [ 0.70710678,  0.76515378]]), array([[ 0.70710678, -0.64384757],\n",
      "       [ 0.70710678,  0.76515378]]), array([[ 0.70710678, -0.64384757],\n",
      "       [ 0.70710678,  0.76515378]]), array([[ 0.70710678, -0.64384757],\n",
      "       [ 0.70710678,  0.76515378]])]\n"
     ]
    }
   ],
   "source": [
    "print(eigenvectors)"
   ]
  },
  {
   "cell_type": "code",
   "execution_count": null,
   "metadata": {},
   "outputs": [],
   "source": []
  }
 ],
 "metadata": {
  "kernelspec": {
   "display_name": "Python 3",
   "language": "python",
   "name": "python3"
  },
  "language_info": {
   "codemirror_mode": {
    "name": "ipython",
    "version": 3
   },
   "file_extension": ".py",
   "mimetype": "text/x-python",
   "name": "python",
   "nbconvert_exporter": "python",
   "pygments_lexer": "ipython3",
   "version": "3.6.5"
  }
 },
 "nbformat": 4,
 "nbformat_minor": 2
}
